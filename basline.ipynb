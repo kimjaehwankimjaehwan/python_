{
  "metadata": {
    "kernelspec": {
      "language": "python",
      "display_name": "Python 3",
      "name": "python3"
    },
    "language_info": {
      "name": "python",
      "version": "3.10.13",
      "mimetype": "text/x-python",
      "codemirror_mode": {
        "name": "ipython",
        "version": 3
      },
      "pygments_lexer": "ipython3",
      "nbconvert_exporter": "python",
      "file_extension": ".py"
    },
    "kaggle": {
      "accelerator": "none",
      "dataSources": [
        {
          "sourceId": 3948,
          "databundleVersionId": 32624,
          "sourceType": "competition"
        }
      ],
      "dockerImageVersionId": 30746,
      "isInternetEnabled": false,
      "language": "python",
      "sourceType": "notebook",
      "isGpuEnabled": false
    },
    "colab": {
      "provenance": [],
      "include_colab_link": true
    }
  },
  "nbformat_minor": 0,
  "nbformat": 4,
  "cells": [
    {
      "cell_type": "markdown",
      "metadata": {
        "id": "view-in-github",
        "colab_type": "text"
      },
      "source": [
        "<a href=\"https://colab.research.google.com/github/kimjaehwankimjaehwan/python_/blob/main/basline.ipynb\" target=\"_parent\"><img src=\"https://colab.research.google.com/assets/colab-badge.svg\" alt=\"Open In Colab\"/></a>"
      ]
    },
    {
      "cell_type": "code",
      "source": [
        "# This Python 3 environment comes with many helpful analytics libraries installed\n",
        "# It is defined by the kaggle/python Docker image: https://github.com/kaggle/docker-python\n",
        "# For example, here's several helpful packages to load\n",
        "\n",
        "import numpy as np # linear algebra\n",
        "import pandas as pd # data processing, CSV file I/O (e.g. pd.read_csv)\n",
        "\n",
        "# Input data files are available in the read-only \"../input/\" directory\n",
        "# For example, running this (by clicking run or pressing Shift+Enter) will list all files under the input directory\n",
        "\n",
        "import os\n",
        "for dirname, _, filenames in os.walk('/kaggle/input'):\n",
        "    for filename in filenames:\n",
        "        print(os.path.join(dirname, filename))\n",
        "\n",
        "# You can write up to 20GB to the current directory (/kaggle/working/) that gets preserved as output when you create a version using \"Save & Run All\"\n",
        "# You can also write temporary files to /kaggle/temp/, but they won't be saved outside of the current session"
      ],
      "metadata": {
        "_uuid": "8f2839f25d086af736a60e9eeb907d3b93b6e0e5",
        "_cell_guid": "b1076dfc-b9ad-4769-8c92-a6c4dae69d19",
        "execution": {
          "iopub.status.busy": "2024-08-20T05:53:42.43791Z",
          "iopub.execute_input": "2024-08-20T05:53:42.438346Z",
          "iopub.status.idle": "2024-08-20T05:53:42.44882Z",
          "shell.execute_reply.started": "2024-08-20T05:53:42.438295Z",
          "shell.execute_reply": "2024-08-20T05:53:42.447443Z"
        },
        "trusted": true,
        "id": "5ka46SN-XVs8"
      },
      "execution_count": null,
      "outputs": []
    },
    {
      "cell_type": "code",
      "source": [
        "import pandas as pd\n",
        "# 데이터 경로\n",
        "data_path = '/kaggle/input/bike-sharing-demand/'\n",
        "\n",
        "train = pd.read_csv(data_path + 'train.csv')\n",
        "test = pd.read_csv(data_path + 'test.csv')\n",
        "submission = pd.read_csv(data_path + 'sampleSubmission.csv')"
      ],
      "metadata": {
        "execution": {
          "iopub.status.busy": "2024-08-20T07:20:02.929339Z",
          "iopub.execute_input": "2024-08-20T07:20:02.929794Z",
          "iopub.status.idle": "2024-08-20T07:20:02.997357Z",
          "shell.execute_reply.started": "2024-08-20T07:20:02.929763Z",
          "shell.execute_reply": "2024-08-20T07:20:02.996096Z"
        },
        "trusted": true,
        "id": "wa-w4QCkXVtB"
      },
      "execution_count": null,
      "outputs": []
    },
    {
      "cell_type": "code",
      "source": [
        "# 이상치 제거\n",
        "train = train[train['weather'] != 4]"
      ],
      "metadata": {
        "execution": {
          "iopub.status.busy": "2024-08-20T07:20:03.687497Z",
          "iopub.execute_input": "2024-08-20T07:20:03.687877Z",
          "iopub.status.idle": "2024-08-20T07:20:03.696863Z",
          "shell.execute_reply.started": "2024-08-20T07:20:03.687849Z",
          "shell.execute_reply": "2024-08-20T07:20:03.695495Z"
        },
        "trusted": true,
        "id": "0hhFAOI0XVtC"
      },
      "execution_count": null,
      "outputs": []
    },
    {
      "cell_type": "code",
      "source": [
        "all_data_temp = pd.concat([train, test])\n",
        "all_data_temp"
      ],
      "metadata": {
        "execution": {
          "iopub.status.busy": "2024-08-20T07:20:04.046545Z",
          "iopub.execute_input": "2024-08-20T07:20:04.046957Z",
          "iopub.status.idle": "2024-08-20T07:20:04.074558Z",
          "shell.execute_reply.started": "2024-08-20T07:20:04.046918Z",
          "shell.execute_reply": "2024-08-20T07:20:04.073414Z"
        },
        "trusted": true,
        "id": "42UXoXMGXVtD"
      },
      "execution_count": null,
      "outputs": []
    },
    {
      "cell_type": "code",
      "source": [
        "all_data = pd.concat([train, test], ignore_index=True)\n",
        "all_data"
      ],
      "metadata": {
        "execution": {
          "iopub.status.busy": "2024-08-20T07:20:04.486481Z",
          "iopub.execute_input": "2024-08-20T07:20:04.48748Z",
          "iopub.status.idle": "2024-08-20T07:20:04.515682Z",
          "shell.execute_reply.started": "2024-08-20T07:20:04.487416Z",
          "shell.execute_reply": "2024-08-20T07:20:04.514236Z"
        },
        "trusted": true,
        "id": "9-CX_qjFXVtD"
      },
      "execution_count": null,
      "outputs": []
    },
    {
      "cell_type": "code",
      "source": [
        "# 파생 피처(변수) 추가\n",
        "from datetime import datetime\n",
        "\n",
        "# 날짜 피처 생성\n",
        "all_data['date'] = all_data['datetime'].apply(lambda x: x.split()[0])\n",
        "# 연도 피처 생성\n",
        "all_data['year'] = all_data['datetime'].apply(lambda x: x.split()[0].split('-')[0])\n",
        "# 월 피처 생성\n",
        "all_data['month'] = all_data['datetime'].apply(lambda x: x.split()[0].split('-')[1])\n",
        "# 시 피처 생성\n",
        "all_data['hour'] = all_data['datetime'].apply(lambda x: x.split()[1].split(':')[0])\n",
        "# 요일 피처 생성\n",
        "all_data[\"weekday\"] = all_data['date'].apply(lambda dateString : datetime.strptime(dateString,\"%Y-%m-%d\").weekday())"
      ],
      "metadata": {
        "execution": {
          "iopub.status.busy": "2024-08-20T07:20:04.743473Z",
          "iopub.execute_input": "2024-08-20T07:20:04.743898Z",
          "iopub.status.idle": "2024-08-20T07:20:04.953119Z",
          "shell.execute_reply.started": "2024-08-20T07:20:04.743865Z",
          "shell.execute_reply": "2024-08-20T07:20:04.951873Z"
        },
        "trusted": true,
        "id": "1jGhl0c9XVtE"
      },
      "execution_count": null,
      "outputs": []
    },
    {
      "cell_type": "code",
      "source": [
        "all_data.head(2)"
      ],
      "metadata": {
        "execution": {
          "iopub.status.busy": "2024-08-20T07:20:05.050675Z",
          "iopub.execute_input": "2024-08-20T07:20:05.0511Z",
          "iopub.status.idle": "2024-08-20T07:20:05.072659Z",
          "shell.execute_reply.started": "2024-08-20T07:20:05.051068Z",
          "shell.execute_reply": "2024-08-20T07:20:05.071378Z"
        },
        "trusted": true,
        "id": "XRfxafssXVtE"
      },
      "execution_count": null,
      "outputs": []
    },
    {
      "cell_type": "code",
      "source": [
        "# 필요 없는 피처 제거\n",
        "drop_features = ['casual', 'registered', 'datetime', 'date', 'month', 'windspeed']"
      ],
      "metadata": {
        "execution": {
          "iopub.status.busy": "2024-08-20T07:20:05.269755Z",
          "iopub.execute_input": "2024-08-20T07:20:05.270166Z",
          "iopub.status.idle": "2024-08-20T07:20:05.275317Z",
          "shell.execute_reply.started": "2024-08-20T07:20:05.270132Z",
          "shell.execute_reply": "2024-08-20T07:20:05.27404Z"
        },
        "trusted": true,
        "id": "XZMImsGjXVtE"
      },
      "execution_count": null,
      "outputs": []
    },
    {
      "cell_type": "code",
      "source": [
        "all_data = all_data.drop(drop_features, axis=1)"
      ],
      "metadata": {
        "execution": {
          "iopub.status.busy": "2024-08-20T07:20:05.485889Z",
          "iopub.execute_input": "2024-08-20T07:20:05.486322Z",
          "iopub.status.idle": "2024-08-20T07:20:05.494743Z",
          "shell.execute_reply.started": "2024-08-20T07:20:05.486288Z",
          "shell.execute_reply": "2024-08-20T07:20:05.493413Z"
        },
        "trusted": true,
        "id": "FMcbxDjSXVtF"
      },
      "execution_count": null,
      "outputs": []
    },
    {
      "cell_type": "code",
      "source": [
        "all_data.head(2)"
      ],
      "metadata": {
        "execution": {
          "iopub.status.busy": "2024-08-20T07:20:05.702221Z",
          "iopub.execute_input": "2024-08-20T07:20:05.702638Z",
          "iopub.status.idle": "2024-08-20T07:20:05.719224Z",
          "shell.execute_reply.started": "2024-08-20T07:20:05.702605Z",
          "shell.execute_reply": "2024-08-20T07:20:05.717825Z"
        },
        "trusted": true,
        "id": "vF4AVPeMXVtG"
      },
      "execution_count": null,
      "outputs": []
    },
    {
      "cell_type": "code",
      "source": [
        "# 훈련 데이터와 테스트 데이터 나누기\n",
        "X_train = all_data[~pd.isnull(all_data['count'])]\n",
        "X_test = all_data[pd.isnull(all_data['count'])]\n",
        "\n",
        "# 타깃값 count 제거\n",
        "X_train = X_train.drop(['count'], axis=1)\n",
        "X_test = X_test.drop(['count'], axis=1)\n",
        "\n",
        "y = train['count']"
      ],
      "metadata": {
        "execution": {
          "iopub.status.busy": "2024-08-20T07:20:05.918336Z",
          "iopub.execute_input": "2024-08-20T07:20:05.918744Z",
          "iopub.status.idle": "2024-08-20T07:20:05.935971Z",
          "shell.execute_reply.started": "2024-08-20T07:20:05.918715Z",
          "shell.execute_reply": "2024-08-20T07:20:05.934875Z"
        },
        "trusted": true,
        "id": "ImgVzu2ZXVtG"
      },
      "execution_count": null,
      "outputs": []
    },
    {
      "cell_type": "code",
      "source": [
        "X_train.head()"
      ],
      "metadata": {
        "execution": {
          "iopub.status.busy": "2024-08-20T07:20:06.13392Z",
          "iopub.execute_input": "2024-08-20T07:20:06.134331Z",
          "iopub.status.idle": "2024-08-20T07:20:06.149781Z",
          "shell.execute_reply.started": "2024-08-20T07:20:06.134299Z",
          "shell.execute_reply": "2024-08-20T07:20:06.148629Z"
        },
        "trusted": true,
        "id": "dZjnX8rBXVtH"
      },
      "execution_count": null,
      "outputs": []
    },
    {
      "cell_type": "code",
      "source": [
        "X_test.head()"
      ],
      "metadata": {
        "execution": {
          "iopub.status.busy": "2024-08-20T07:20:06.967667Z",
          "iopub.execute_input": "2024-08-20T07:20:06.968974Z",
          "iopub.status.idle": "2024-08-20T07:20:06.985875Z",
          "shell.execute_reply.started": "2024-08-20T07:20:06.968903Z",
          "shell.execute_reply": "2024-08-20T07:20:06.984768Z"
        },
        "trusted": true,
        "id": "kIZeP4SiXVtH"
      },
      "execution_count": null,
      "outputs": []
    },
    {
      "cell_type": "code",
      "source": [
        "import numpy as np\n",
        "\n",
        "def rmsle(y_true, y_pred, convertExp=True):\n",
        "    # 지수변환\n",
        "    if convertExp:\n",
        "        y_true = np.exp(y_true)\n",
        "        y_pred = np.exp(y_pred)\n",
        "\n",
        "    # 로그변환 후 결측값을 0으로 변환\n",
        "    log_true = np.nan_to_num(np.log(y_true+1))\n",
        "    log_pred = np.nan_to_num(np.log(y_pred+1))\n",
        "\n",
        "    # RMSLE 계산\n",
        "    output = np.sqrt(np.mean((log_true - log_pred)**2))\n",
        "    return output"
      ],
      "metadata": {
        "execution": {
          "iopub.status.busy": "2024-08-20T07:20:07.390686Z",
          "iopub.execute_input": "2024-08-20T07:20:07.391094Z",
          "iopub.status.idle": "2024-08-20T07:20:07.398883Z",
          "shell.execute_reply.started": "2024-08-20T07:20:07.391061Z",
          "shell.execute_reply": "2024-08-20T07:20:07.397519Z"
        },
        "trusted": true,
        "id": "FUomSQI1XVtH"
      },
      "execution_count": null,
      "outputs": []
    },
    {
      "cell_type": "code",
      "source": [
        "# 모델 훈련\n",
        "from sklearn.linear_model import LinearRegression\n",
        "\n",
        "linear_reg_model = LinearRegression()"
      ],
      "metadata": {
        "execution": {
          "iopub.status.busy": "2024-08-20T07:20:08.31153Z",
          "iopub.execute_input": "2024-08-20T07:20:08.311931Z",
          "iopub.status.idle": "2024-08-20T07:20:08.318418Z",
          "shell.execute_reply.started": "2024-08-20T07:20:08.311899Z",
          "shell.execute_reply": "2024-08-20T07:20:08.317131Z"
        },
        "trusted": true,
        "id": "nTGDsin-XVtH"
      },
      "execution_count": null,
      "outputs": []
    },
    {
      "cell_type": "code",
      "source": [
        "# 훈련 데이터로 모델을 훈련\n",
        "log_y = np.log(y)  # 타깃값 로그변환\n",
        "linear_reg_model.fit(X_train, log_y) # 모델 훈련"
      ],
      "metadata": {
        "execution": {
          "iopub.status.busy": "2024-08-20T07:20:08.615216Z",
          "iopub.execute_input": "2024-08-20T07:20:08.61563Z",
          "iopub.status.idle": "2024-08-20T07:20:08.648868Z",
          "shell.execute_reply.started": "2024-08-20T07:20:08.615598Z",
          "shell.execute_reply": "2024-08-20T07:20:08.647575Z"
        },
        "trusted": true,
        "id": "p0N1gNaYXVtI"
      },
      "execution_count": null,
      "outputs": []
    },
    {
      "cell_type": "code",
      "source": [
        "# 모델 성능 검증\n",
        "preds = linear_reg_model.predict(X_train)\n",
        "\n",
        "print('선형 회귀의 RMSLE 값: {:.4f}'.format(rmsle(log_y, preds, True)))"
      ],
      "metadata": {
        "execution": {
          "iopub.status.busy": "2024-08-20T07:20:09.030891Z",
          "iopub.execute_input": "2024-08-20T07:20:09.031298Z",
          "iopub.status.idle": "2024-08-20T07:20:09.058485Z",
          "shell.execute_reply.started": "2024-08-20T07:20:09.031265Z",
          "shell.execute_reply": "2024-08-20T07:20:09.057229Z"
        },
        "trusted": true,
        "id": "qFxaG9tBXVtI"
      },
      "execution_count": null,
      "outputs": []
    },
    {
      "cell_type": "code",
      "source": [
        "# 예측 및 결과 제출\n",
        "linearreg_preds = linear_reg_model.predict(X_test)       # 테스트 데이터로 예측\n",
        "\n",
        "submission['count'] = np.exp(linearreg_preds)            # 지수변환\n",
        "submission.to_csv('submission.csv', index=False)         # 파일로 저장"
      ],
      "metadata": {
        "execution": {
          "iopub.status.busy": "2024-08-20T07:20:10.135512Z",
          "iopub.execute_input": "2024-08-20T07:20:10.135899Z",
          "iopub.status.idle": "2024-08-20T07:20:10.186908Z",
          "shell.execute_reply.started": "2024-08-20T07:20:10.135871Z",
          "shell.execute_reply": "2024-08-20T07:20:10.185584Z"
        },
        "trusted": true,
        "id": "hdZ-twVXXVtI"
      },
      "execution_count": null,
      "outputs": []
    },
    {
      "cell_type": "markdown",
      "source": [
        "#### 성능 개선 I : 릿지 회귀 모델\n",
        "---"
      ],
      "metadata": {
        "id": "TSiVlOFkXVtI"
      }
    },
    {
      "cell_type": "code",
      "source": [
        "# 모델 생성\n",
        "from sklearn.linear_model import Ridge\n",
        "from sklearn.model_selection import GridSearchCV\n",
        "from sklearn import metrics\n",
        "\n",
        "ridge_model = Ridge()"
      ],
      "metadata": {
        "execution": {
          "iopub.status.busy": "2024-08-20T07:20:16.843462Z",
          "iopub.execute_input": "2024-08-20T07:20:16.844297Z",
          "iopub.status.idle": "2024-08-20T07:20:16.849629Z",
          "shell.execute_reply.started": "2024-08-20T07:20:16.844259Z",
          "shell.execute_reply": "2024-08-20T07:20:16.84833Z"
        },
        "trusted": true,
        "id": "tq1jlpzxXVtK"
      },
      "execution_count": null,
      "outputs": []
    },
    {
      "cell_type": "code",
      "source": [
        "# 하이퍼 파라미터 값 목록\n",
        "ridge_params = {'max_iter': [3000],\n",
        "                'alpha': [0.1, 1, 2, 3, 4, 10, 30, 100, 200, 300, 400, 800, 900, 1000]}\n",
        "\n",
        "# 교차 검증용 평가 함수(RMSEL 점수 계산)\n",
        "rmsle_scorer = metrics.make_scorer(rmsle, greater_is_better=False)\n",
        "\n",
        "# 그리드서치(with 릿지) 객체 생성\n",
        "gridsearch_ridge_model = GridSearchCV(estimator = ridge_model,   # 릿지 모델\n",
        "                                      param_grid=ridge_params,   # 값 목록\n",
        "                                      scoring=rmsle_scorer,      # 평가지표\n",
        "                                      cv=5)                      # 교차 검증 분할 수"
      ],
      "metadata": {
        "execution": {
          "iopub.status.busy": "2024-08-20T07:24:07.262693Z",
          "iopub.execute_input": "2024-08-20T07:24:07.263076Z",
          "iopub.status.idle": "2024-08-20T07:24:07.270354Z",
          "shell.execute_reply.started": "2024-08-20T07:24:07.263048Z",
          "shell.execute_reply": "2024-08-20T07:24:07.268925Z"
        },
        "trusted": true,
        "id": "RigiDFx1XVtK"
      },
      "execution_count": null,
      "outputs": []
    },
    {
      "cell_type": "code",
      "source": [
        "# 그리드서치 수행\n",
        "log_y = np.log(y)\n",
        "gridsearch_ridge_model.fit(X_train, log_y)   # 훈련"
      ],
      "metadata": {
        "execution": {
          "iopub.status.busy": "2024-08-20T07:24:45.668648Z",
          "iopub.execute_input": "2024-08-20T07:24:45.669069Z",
          "iopub.status.idle": "2024-08-20T07:24:47.924481Z",
          "shell.execute_reply.started": "2024-08-20T07:24:45.669036Z",
          "shell.execute_reply": "2024-08-20T07:24:47.92284Z"
        },
        "trusted": true,
        "id": "UWV7r-XDXVtL"
      },
      "execution_count": null,
      "outputs": []
    },
    {
      "cell_type": "code",
      "source": [
        "# 성능 검증\n",
        "# 예측\n",
        "preds = gridsearch_ridge_model.best_estimator_.predict(X_train)\n",
        "\n",
        "# 평가\n",
        "print('릿지 회귀 RMSLE 값 : {:.4f}'.format(rmsle(log_y, preds, True)))"
      ],
      "metadata": {
        "execution": {
          "iopub.status.busy": "2024-08-20T07:27:05.085537Z",
          "iopub.execute_input": "2024-08-20T07:27:05.085939Z",
          "iopub.status.idle": "2024-08-20T07:27:05.111276Z",
          "shell.execute_reply.started": "2024-08-20T07:27:05.085909Z",
          "shell.execute_reply": "2024-08-20T07:27:05.110035Z"
        },
        "trusted": true,
        "id": "gyD4YP0EXVtL"
      },
      "execution_count": null,
      "outputs": []
    },
    {
      "cell_type": "markdown",
      "source": [
        "### 성능 개선 II : 라쏘 회귀 모델\n",
        "---"
      ],
      "metadata": {
        "id": "OftelFcUXVtM"
      }
    },
    {
      "cell_type": "code",
      "source": [
        "# 하이퍼파라미터 최적화(모델 훈련)\n",
        "from sklearn.linear_model import Lasso\n",
        "\n",
        "# 모델 생성\n",
        "lasso_model = Lasso()\n",
        "\n",
        "# 하이퍼파라미터 값 목록\n",
        "lasso_alpha = 1/np.array([0.1, 1, 2, 3, 4, 10, 30, 100, 200, 300, 400, 800, 900, 1000])\n",
        "lasso_params = {'max_iter': [3000], 'alpha': lasso_alpha}\n",
        "\n",
        "# 그리드서치(with 라쏘) 객체 생성\n",
        "gridsearch_lasso_model = GridSearchCV(estimator=lasso_model,\n",
        "                                     param_grid=lasso_params,\n",
        "                                     scoring=rmsle_scorer,\n",
        "                                     cv=5)\n",
        "\n",
        "# 그리드서치 수행\n",
        "log_y = np.log(y)\n",
        "gridsearch_lasso_model.fit(X_train, log_y)\n",
        "\n",
        "print('최적 하이퍼파라미터', gridsearch_lasso_model.best_params_)"
      ],
      "metadata": {
        "execution": {
          "iopub.status.busy": "2024-08-20T07:48:12.276602Z",
          "iopub.execute_input": "2024-08-20T07:48:12.277018Z",
          "iopub.status.idle": "2024-08-20T07:48:18.473486Z",
          "shell.execute_reply.started": "2024-08-20T07:48:12.276988Z",
          "shell.execute_reply": "2024-08-20T07:48:18.472162Z"
        },
        "trusted": true,
        "id": "bycwikFiXVtM"
      },
      "execution_count": null,
      "outputs": []
    },
    {
      "cell_type": "code",
      "source": [
        "# 성능 검증\n",
        "# 예측\n",
        "greds = gridsearch_lasso_model.best_estimator_.predict(X_train)\n",
        "\n",
        "# 평가\n",
        "print('라쏘 회귀 RMSLE 값 {:.4f}'.format(rmsle(log_y, preds, True)))"
      ],
      "metadata": {
        "execution": {
          "iopub.status.busy": "2024-08-20T07:49:23.142904Z",
          "iopub.execute_input": "2024-08-20T07:49:23.143334Z",
          "iopub.status.idle": "2024-08-20T07:49:23.164664Z",
          "shell.execute_reply.started": "2024-08-20T07:49:23.143302Z",
          "shell.execute_reply": "2024-08-20T07:49:23.163246Z"
        },
        "trusted": true,
        "id": "xWe1QawNXVtM"
      },
      "execution_count": null,
      "outputs": []
    },
    {
      "cell_type": "markdown",
      "source": [
        "### 성능 개선 III : 랜덤 포레스트 회귀 모델\n",
        "---"
      ],
      "metadata": {
        "id": "p79QndkLXVtM"
      }
    },
    {
      "cell_type": "code",
      "source": [
        "# 하이퍼파라미터 최적화(모델 훈련)\n",
        "from sklearn.ensemble import RandomForestRegressor\n",
        "\n",
        "# 모델 생성\n",
        "randomforest_model = RandomForestRegressor()\n",
        "\n",
        "# 그리드서치 객체 생성\n",
        "rf_params = {'random_state': [42], 'n_estimators': [100, 120, 140]}\n",
        "gridsearch_random_forest_model = GridSearchCV(estimator=randomforest_model,\n",
        "                                              param_grid=rf_params,\n",
        "                                              scoring=rmsle_scorer,\n",
        "                                              cv=5)\n",
        "\n",
        "# 그리드서치 수행\n",
        "log_y = np.log(y)\n",
        "gridsearch_random_forest_model.fit(X_train, log_y)\n",
        "\n",
        "print('최적 하이퍼파라미터 :', gridsearch_random_forest_model.best_params_)"
      ],
      "metadata": {
        "execution": {
          "iopub.status.busy": "2024-08-20T07:59:54.034342Z",
          "iopub.execute_input": "2024-08-20T07:59:54.03472Z",
          "iopub.status.idle": "2024-08-20T08:00:49.335246Z",
          "shell.execute_reply.started": "2024-08-20T07:59:54.03469Z",
          "shell.execute_reply": "2024-08-20T08:00:49.33405Z"
        },
        "trusted": true,
        "id": "OZBc_kSLXVtM"
      },
      "execution_count": null,
      "outputs": []
    },
    {
      "cell_type": "code",
      "source": [
        "# 예측 및 결과 제출\n",
        "import seaborn as sns\n",
        "import matplotlib.pyplot as plt\n",
        "\n",
        "randomforest_preds = gridsearch_random_forest_model.best_estimator_.predict(X_test)\n",
        "\n",
        "figure, axes = plt.subplots(ncols=2)\n",
        "figure.set_size_inches(10, 4)\n",
        "\n",
        "sns.histplot(y, bins=50, ax=axes[0])\n",
        "axes[0].set_title('Train Data Distribution')\n",
        "sns.histplot(np.exp(randomforest_preds), bins=50, ax=axes[1])\n",
        "axes[1].set_title('Predicted Test Data Distribution')"
      ],
      "metadata": {
        "execution": {
          "iopub.status.busy": "2024-08-20T08:01:47.216881Z",
          "iopub.execute_input": "2024-08-20T08:01:47.217298Z",
          "iopub.status.idle": "2024-08-20T08:01:48.462605Z",
          "shell.execute_reply.started": "2024-08-20T08:01:47.217266Z",
          "shell.execute_reply": "2024-08-20T08:01:48.461236Z"
        },
        "trusted": true,
        "id": "_BlBdLqSXVtM"
      },
      "execution_count": null,
      "outputs": []
    },
    {
      "cell_type": "code",
      "source": [
        "submission['count'] = np.exp(randomforest_preds)   # 지수변환\n",
        "submission.to_csv('submission.csv', index=False)"
      ],
      "metadata": {
        "execution": {
          "iopub.status.busy": "2024-08-20T08:01:51.342881Z",
          "iopub.execute_input": "2024-08-20T08:01:51.34336Z",
          "iopub.status.idle": "2024-08-20T08:01:51.369108Z",
          "shell.execute_reply.started": "2024-08-20T08:01:51.343324Z",
          "shell.execute_reply": "2024-08-20T08:01:51.367858Z"
        },
        "trusted": true,
        "id": "-vylnsk4XVtM"
      },
      "execution_count": null,
      "outputs": []
    },
    {
      "cell_type": "code",
      "source": [],
      "metadata": {
        "id": "VA-uYoA7XVtN"
      },
      "execution_count": null,
      "outputs": []
    }
  ]
}